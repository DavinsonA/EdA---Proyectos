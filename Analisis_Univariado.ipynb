{
  "cells": [
    {
      "cell_type": "markdown",
      "id": "08fLVJ5KDAUF",
      "metadata": {
        "id": "08fLVJ5KDAUF"
      },
      "source": [
        "## Introducción al problema"
      ]
    },
    {
      "cell_type": "markdown",
      "id": "oj6x-jjADJ4O",
      "metadata": {
        "id": "oj6x-jjADJ4O"
      },
      "source": [
        "El examen Saber 11, dirigido por el ICFES, es la prueba que marca la culminación de la etapa académica de los jóvenes en Colombia y evalúa competencias en Matemáticas, Lectura Crítica, Sociales y Ciudadanas, Ciencias Naturales e Inglés. Además de los resultados, la prueba recoge información económica, académica, social y demográfica de los estudiantes, lo que permite analizar cómo factores como pertenecer a una minoría étnica, el acceso a las TIC o la zona de residencia influyen en el desempeño. Este enfoque integral facilita la identificación de poblaciones en situación de vulnerabilidad y brinda insumos para orientar políticas de apoyo, como becas o subsidios, con el fin de reducir desigualdades educativas en el país."
      ]
    },
    {
      "cell_type": "markdown",
      "id": "U_kY_RddA7V4",
      "metadata": {
        "id": "U_kY_RddA7V4"
      },
      "source": [
        "## Pregunta SMART"
      ]
    },
    {
      "cell_type": "markdown",
      "id": "8-YIK8ZUA-Xl",
      "metadata": {
        "id": "8-YIK8ZUA-Xl"
      },
      "source": [
        "¿En qué medida las características sociodemográficas, económicas y académicas de los evaluados en el examen Saber 11 del año 2024 se relacionan con su puntaje global obtenido en la prueba, y cómo podrían estos hallazgos orientar estrategias de apoyo educativo focalizado?"
      ]
    },
    {
      "cell_type": "markdown",
      "id": "xtSJZtmQAqYq",
      "metadata": {
        "id": "xtSJZtmQAqYq"
      },
      "source": [
        "## Acciones Preliminares"
      ]
    },
    {
      "cell_type": "markdown",
      "id": "gtbL0KpSAvIq",
      "metadata": {
        "id": "gtbL0KpSAvIq"
      },
      "source": [
        "En esta sección del notebook realizaremos la importación de las librerias a utilizar y configuraciones en las graficas a mostrar para manejar reportes visualmente homogeneo."
      ]
    },
    {
      "cell_type": "code",
      "execution_count": 30,
      "id": "6385d7cc",
      "metadata": {
        "id": "6385d7cc"
      },
      "outputs": [],
      "source": [
        "import pandas as pd\n",
        "import seaborn as sns\n",
        "import matplotlib.pyplot as plt\n",
        "from scipy import stats\n",
        "from scipy.stats import normaltest\n",
        "from scipy.stats import kruskal\n",
        "import warnings\n",
        "warnings.filterwarnings(\"ignore\")\n",
        "\n",
        "pd.set_option('display.max_rows', None)\n",
        "\n",
        "\n",
        "sns.set(style=\"whitegrid\", font=\"DejaVu Sans\", rc={\"axes.titleweight\": \"bold\", \"axes.titlesize\": 18,\n",
        "                                                   \"axes.labelsize\": 14, \"xtick.labelsize\": 12, \"ytick.labelsize\": 12})\n",
        "\n",
        "icesi_blue = \"#5454E9\"\n",
        "icesi_green = \"#4CB979\"\n",
        "icesi_yellow = \"#E4EB60\"\n",
        "icesi_purple = \"#865CF0\""
      ]
    },
    {
      "cell_type": "code",
      "execution_count": 31,
      "id": "c3801711",
      "metadata": {
        "colab": {
          "base_uri": "https://localhost:8080/",
          "height": 290
        },
        "id": "c3801711",
        "outputId": "38062748-3643-45b7-dc41-bc27777efa71"
      },
      "outputs": [
        {
          "data": {
            "text/html": [
              "<div>\n",
              "<style scoped>\n",
              "    .dataframe tbody tr th:only-of-type {\n",
              "        vertical-align: middle;\n",
              "    }\n",
              "\n",
              "    .dataframe tbody tr th {\n",
              "        vertical-align: top;\n",
              "    }\n",
              "\n",
              "    .dataframe thead th {\n",
              "        text-align: right;\n",
              "    }\n",
              "</style>\n",
              "<table border=\"1\" class=\"dataframe\">\n",
              "  <thead>\n",
              "    <tr style=\"text-align: right;\">\n",
              "      <th></th>\n",
              "      <th>periodo</th>\n",
              "      <th>estu_consecutivo</th>\n",
              "      <th>estu_estudiante</th>\n",
              "      <th>estu_tipodocumento</th>\n",
              "      <th>cole_area_ubicacion</th>\n",
              "      <th>cole_bilingue</th>\n",
              "      <th>cole_calendario</th>\n",
              "      <th>cole_caracter</th>\n",
              "      <th>cole_cod_dane_establecimiento</th>\n",
              "      <th>cole_cod_dane_sede</th>\n",
              "      <th>...</th>\n",
              "      <th>percentil_ingles</th>\n",
              "      <th>percentil_lectura_critica</th>\n",
              "      <th>percentil_matematicas</th>\n",
              "      <th>percentil_sociales_ciudadanas</th>\n",
              "      <th>punt_c_naturales</th>\n",
              "      <th>punt_global</th>\n",
              "      <th>punt_ingles</th>\n",
              "      <th>punt_lectura_critica</th>\n",
              "      <th>punt_matematicas</th>\n",
              "      <th>punt_sociales_ciudadanas</th>\n",
              "    </tr>\n",
              "  </thead>\n",
              "  <tbody>\n",
              "    <tr>\n",
              "      <th>0</th>\n",
              "      <td>20241</td>\n",
              "      <td>SB11202410000447</td>\n",
              "      <td>ESTUDIANTE</td>\n",
              "      <td>TI</td>\n",
              "      <td>URBANO</td>\n",
              "      <td>S</td>\n",
              "      <td>B</td>\n",
              "      <td>ACADÉMICO</td>\n",
              "      <td>3.118480e+11</td>\n",
              "      <td>3.118480e+11</td>\n",
              "      <td>...</td>\n",
              "      <td>89.0</td>\n",
              "      <td>78</td>\n",
              "      <td>66</td>\n",
              "      <td>91</td>\n",
              "      <td>64</td>\n",
              "      <td>344</td>\n",
              "      <td>84.0</td>\n",
              "      <td>69</td>\n",
              "      <td>65</td>\n",
              "      <td>72</td>\n",
              "    </tr>\n",
              "    <tr>\n",
              "      <th>1</th>\n",
              "      <td>20241</td>\n",
              "      <td>SB11202410095326</td>\n",
              "      <td>ESTUDIANTE</td>\n",
              "      <td>CC</td>\n",
              "      <td>URBANO</td>\n",
              "      <td>NaN</td>\n",
              "      <td>A</td>\n",
              "      <td>NaN</td>\n",
              "      <td>3.110018e+11</td>\n",
              "      <td>3.110018e+11</td>\n",
              "      <td>...</td>\n",
              "      <td>23.0</td>\n",
              "      <td>45</td>\n",
              "      <td>47</td>\n",
              "      <td>24</td>\n",
              "      <td>43</td>\n",
              "      <td>250</td>\n",
              "      <td>47.0</td>\n",
              "      <td>58</td>\n",
              "      <td>57</td>\n",
              "      <td>43</td>\n",
              "    </tr>\n",
              "    <tr>\n",
              "      <th>2</th>\n",
              "      <td>20241</td>\n",
              "      <td>SB11202410095321</td>\n",
              "      <td>ESTUDIANTE</td>\n",
              "      <td>PPT</td>\n",
              "      <td>URBANO</td>\n",
              "      <td>NaN</td>\n",
              "      <td>B</td>\n",
              "      <td>NaN</td>\n",
              "      <td>4.110018e+11</td>\n",
              "      <td>4.110018e+11</td>\n",
              "      <td>...</td>\n",
              "      <td>44.0</td>\n",
              "      <td>23</td>\n",
              "      <td>19</td>\n",
              "      <td>6</td>\n",
              "      <td>53</td>\n",
              "      <td>229</td>\n",
              "      <td>61.0</td>\n",
              "      <td>49</td>\n",
              "      <td>43</td>\n",
              "      <td>33</td>\n",
              "    </tr>\n",
              "    <tr>\n",
              "      <th>3</th>\n",
              "      <td>20241</td>\n",
              "      <td>SB11202410032253</td>\n",
              "      <td>ESTUDIANTE</td>\n",
              "      <td>TI</td>\n",
              "      <td>URBANO</td>\n",
              "      <td>N</td>\n",
              "      <td>B</td>\n",
              "      <td>TÉCNICO/ACADÉMICO</td>\n",
              "      <td>3.760010e+11</td>\n",
              "      <td>3.760010e+11</td>\n",
              "      <td>...</td>\n",
              "      <td>51.0</td>\n",
              "      <td>28</td>\n",
              "      <td>39</td>\n",
              "      <td>57</td>\n",
              "      <td>63</td>\n",
              "      <td>286</td>\n",
              "      <td>66.0</td>\n",
              "      <td>51</td>\n",
              "      <td>53</td>\n",
              "      <td>59</td>\n",
              "    </tr>\n",
              "    <tr>\n",
              "      <th>4</th>\n",
              "      <td>20241</td>\n",
              "      <td>SB11202410095319</td>\n",
              "      <td>ESTUDIANTE</td>\n",
              "      <td>TI</td>\n",
              "      <td>URBANO</td>\n",
              "      <td>NaN</td>\n",
              "      <td>B</td>\n",
              "      <td>NaN</td>\n",
              "      <td>4.110018e+11</td>\n",
              "      <td>4.110018e+11</td>\n",
              "      <td>...</td>\n",
              "      <td>63.0</td>\n",
              "      <td>46</td>\n",
              "      <td>36</td>\n",
              "      <td>50</td>\n",
              "      <td>55</td>\n",
              "      <td>285</td>\n",
              "      <td>74.0</td>\n",
              "      <td>59</td>\n",
              "      <td>52</td>\n",
              "      <td>56</td>\n",
              "    </tr>\n",
              "  </tbody>\n",
              "</table>\n",
              "<p>5 rows × 84 columns</p>\n",
              "</div>"
            ],
            "text/plain": [
              "   periodo  estu_consecutivo estu_estudiante estu_tipodocumento  \\\n",
              "0    20241  SB11202410000447      ESTUDIANTE                 TI   \n",
              "1    20241  SB11202410095326      ESTUDIANTE                 CC   \n",
              "2    20241  SB11202410095321      ESTUDIANTE                PPT   \n",
              "3    20241  SB11202410032253      ESTUDIANTE                 TI   \n",
              "4    20241  SB11202410095319      ESTUDIANTE                 TI   \n",
              "\n",
              "  cole_area_ubicacion cole_bilingue cole_calendario      cole_caracter  \\\n",
              "0              URBANO             S               B          ACADÉMICO   \n",
              "1              URBANO           NaN               A                NaN   \n",
              "2              URBANO           NaN               B                NaN   \n",
              "3              URBANO             N               B  TÉCNICO/ACADÉMICO   \n",
              "4              URBANO           NaN               B                NaN   \n",
              "\n",
              "   cole_cod_dane_establecimiento  cole_cod_dane_sede  ...  percentil_ingles  \\\n",
              "0                   3.118480e+11        3.118480e+11  ...              89.0   \n",
              "1                   3.110018e+11        3.110018e+11  ...              23.0   \n",
              "2                   4.110018e+11        4.110018e+11  ...              44.0   \n",
              "3                   3.760010e+11        3.760010e+11  ...              51.0   \n",
              "4                   4.110018e+11        4.110018e+11  ...              63.0   \n",
              "\n",
              "   percentil_lectura_critica  percentil_matematicas  \\\n",
              "0                         78                     66   \n",
              "1                         45                     47   \n",
              "2                         23                     19   \n",
              "3                         28                     39   \n",
              "4                         46                     36   \n",
              "\n",
              "  percentil_sociales_ciudadanas punt_c_naturales punt_global punt_ingles  \\\n",
              "0                            91               64         344        84.0   \n",
              "1                            24               43         250        47.0   \n",
              "2                             6               53         229        61.0   \n",
              "3                            57               63         286        66.0   \n",
              "4                            50               55         285        74.0   \n",
              "\n",
              "  punt_lectura_critica punt_matematicas punt_sociales_ciudadanas  \n",
              "0                   69               65                       72  \n",
              "1                   58               57                       43  \n",
              "2                   49               43                       33  \n",
              "3                   51               53                       59  \n",
              "4                   59               52                       56  \n",
              "\n",
              "[5 rows x 84 columns]"
            ]
          },
          "execution_count": 31,
          "metadata": {},
          "output_type": "execute_result"
        }
      ],
      "source": [
        "df = pd.read_csv('D:\\Examen_Saber_11_2024.csv', sep=',')\n",
        "df.head()"
      ]
    },
    {
      "cell_type": "code",
      "execution_count": 32,
      "id": "xrqWe-MwPqfl",
      "metadata": {
        "colab": {
          "base_uri": "https://localhost:8080/"
        },
        "id": "xrqWe-MwPqfl",
        "outputId": "4c10fbc9-1a60-4530-8288-8726b86d6451"
      },
      "outputs": [
        {
          "data": {
            "text/plain": [
              "(676508, 84)"
            ]
          },
          "execution_count": 32,
          "metadata": {},
          "output_type": "execute_result"
        }
      ],
      "source": [
        "df.shape"
      ]
    },
    {
      "cell_type": "markdown",
      "id": "73vGE1CASY9Z",
      "metadata": {
        "id": "73vGE1CASY9Z"
      },
      "source": [
        "De lo anterior vemos que se cuenta con 676,508 registros y 84 variables."
      ]
    },
    {
      "cell_type": "code",
      "execution_count": 33,
      "id": "6a5473dd",
      "metadata": {
        "colab": {
          "base_uri": "https://localhost:8080/"
        },
        "id": "6a5473dd",
        "outputId": "2d04fdb5-99b8-4dfe-b2b4-fe2eba9acdff"
      },
      "outputs": [
        {
          "name": "stdout",
          "output_type": "stream",
          "text": [
            "<class 'pandas.core.frame.DataFrame'>\n",
            "RangeIndex: 676508 entries, 0 to 676507\n",
            "Data columns (total 84 columns):\n",
            " #   Column                         Non-Null Count   Dtype  \n",
            "---  ------                         --------------   -----  \n",
            " 0   periodo                        676508 non-null  int64  \n",
            " 1   estu_consecutivo               676508 non-null  object \n",
            " 2   estu_estudiante                676508 non-null  object \n",
            " 3   estu_tipodocumento             676507 non-null  object \n",
            " 4   cole_area_ubicacion            577927 non-null  object \n",
            " 5   cole_bilingue                  463331 non-null  object \n",
            " 6   cole_calendario                577927 non-null  object \n",
            " 7   cole_caracter                  549448 non-null  object \n",
            " 8   cole_cod_dane_establecimiento  577927 non-null  float64\n",
            " 9   cole_cod_dane_sede             577927 non-null  float64\n",
            " 10  cole_cod_depto_ubicacion       577927 non-null  float64\n",
            " 11  cole_cod_mcpio_ubicacion       577927 non-null  float64\n",
            " 12  cole_codigo_icfes              577927 non-null  float64\n",
            " 13  cole_depto_ubicacion           577927 non-null  object \n",
            " 14  cole_genero                    577927 non-null  object \n",
            " 15  cole_jornada                   577927 non-null  object \n",
            " 16  cole_mcpio_ubicacion           577927 non-null  object \n",
            " 17  cole_naturaleza                577927 non-null  object \n",
            " 18  cole_nombre_establecimiento    577927 non-null  object \n",
            " 19  cole_nombre_sede               577927 non-null  object \n",
            " 20  cole_sede_principal            577927 non-null  object \n",
            " 21  desemp_c_naturales             676508 non-null  int64  \n",
            " 22  desemp_ingles                  669200 non-null  object \n",
            " 23  desemp_lectura_critica         676508 non-null  int64  \n",
            " 24  desemp_matematicas             676508 non-null  int64  \n",
            " 25  desemp_sociales_ciudadanas     676508 non-null  int64  \n",
            " 26  estu_agregado                  676508 non-null  object \n",
            " 27  estu_cod_depto_presentacion    676489 non-null  float64\n",
            " 28  estu_cod_mcpio_presentacion    676489 non-null  float64\n",
            " 29  estu_cod_reside_depto          672064 non-null  float64\n",
            " 30  estu_cod_reside_mcpio          672064 non-null  float64\n",
            " 31  estu_dedicacioninternet        513788 non-null  object \n",
            " 32  estu_dedicacionlecturadiaria   514872 non-null  object \n",
            " 33  estu_depto_presentacion        676489 non-null  object \n",
            " 34  estu_depto_reside              672064 non-null  object \n",
            " 35  estu_discapacidad              676508 non-null  object \n",
            " 36  estu_etnia                     24458 non-null   object \n",
            " 37  estu_fechanacimiento           676506 non-null  object \n",
            " 38  estu_genero                    676505 non-null  object \n",
            " 39  estu_grado                     579984 non-null  float64\n",
            " 40  estu_horassemanatrabaja        533934 non-null  object \n",
            " 41  estu_inse_individual           515100 non-null  float64\n",
            " 42  estu_mcpio_presentacion        676489 non-null  object \n",
            " 43  estu_mcpio_reside              672064 non-null  object \n",
            " 44  estu_nacionalidad              676507 non-null  object \n",
            " 45  estu_nse_establecimiento       577911 non-null  float64\n",
            " 46  estu_nse_individual            515100 non-null  float64\n",
            " 47  estu_pais_reside               676507 non-null  object \n",
            " 48  estu_privado_libertad          676507 non-null  object \n",
            " 49  estu_repite                    676504 non-null  float64\n",
            " 50  estu_tieneetnia                20052 non-null   object \n",
            " 51  estu_tiporemuneracion          532968 non-null  object \n",
            " 52  fami_comecarnepescadohuevo     514383 non-null  object \n",
            " 53  fami_comecerealfrutoslegumbre  513378 non-null  object \n",
            " 54  fami_comelechederivados        515204 non-null  object \n",
            " 55  fami_cuartoshogar              533726 non-null  object \n",
            " 56  fami_educacionmadre            515918 non-null  object \n",
            " 57  fami_educacionpadre            516247 non-null  object \n",
            " 58  fami_estratovivienda           636991 non-null  object \n",
            " 59  fami_numlibros                 500816 non-null  object \n",
            " 60  fami_personashogar             535049 non-null  object \n",
            " 61  fami_situacioneconomica        531010 non-null  object \n",
            " 62  fami_tieneautomovil            532926 non-null  object \n",
            " 63  fami_tienecomputador           534021 non-null  object \n",
            " 64  fami_tieneconsolavideojuegos   532973 non-null  object \n",
            " 65  fami_tienehornomicroogas       535031 non-null  object \n",
            " 66  fami_tieneinternet             515811 non-null  object \n",
            " 67  fami_tienelavadora             534004 non-null  object \n",
            " 68  fami_tienemotocicleta          533997 non-null  object \n",
            " 69  fami_tieneserviciotv           514732 non-null  object \n",
            " 70  fami_trabajolabormadre         533733 non-null  object \n",
            " 71  fami_trabajolaborpadre         533564 non-null  object \n",
            " 72  percentil_c_naturales          676508 non-null  int64  \n",
            " 73  percentil_global               669200 non-null  float64\n",
            " 74  percentil_ingles               669200 non-null  float64\n",
            " 75  percentil_lectura_critica      676508 non-null  int64  \n",
            " 76  percentil_matematicas          676508 non-null  int64  \n",
            " 77  percentil_sociales_ciudadanas  676508 non-null  int64  \n",
            " 78  punt_c_naturales               676508 non-null  int64  \n",
            " 79  punt_global                    676508 non-null  int64  \n",
            " 80  punt_ingles                    669200 non-null  float64\n",
            " 81  punt_lectura_critica           676508 non-null  int64  \n",
            " 82  punt_matematicas               676508 non-null  int64  \n",
            " 83  punt_sociales_ciudadanas       676508 non-null  int64  \n",
            "dtypes: float64(17), int64(14), object(53)\n",
            "memory usage: 433.6+ MB\n"
          ]
        }
      ],
      "source": [
        "df.info()"
      ]
    },
    {
      "cell_type": "code",
      "execution_count": 34,
      "id": "-kkHK2t6TVJI",
      "metadata": {
        "colab": {
          "base_uri": "https://localhost:8080/"
        },
        "id": "-kkHK2t6TVJI",
        "outputId": "0a89e44e-f67b-4002-e055-dc54cc0d098f"
      },
      "outputs": [
        {
          "name": "stdout",
          "output_type": "stream",
          "text": [
            "estu_tipodocumento                    1\n",
            "cole_area_ubicacion               98581\n",
            "cole_bilingue                    213177\n",
            "cole_calendario                   98581\n",
            "cole_caracter                    127060\n",
            "cole_cod_dane_establecimiento     98581\n",
            "cole_cod_dane_sede                98581\n",
            "cole_cod_depto_ubicacion          98581\n",
            "cole_cod_mcpio_ubicacion          98581\n",
            "cole_codigo_icfes                 98581\n",
            "cole_depto_ubicacion              98581\n",
            "cole_genero                       98581\n",
            "cole_jornada                      98581\n",
            "cole_mcpio_ubicacion              98581\n",
            "cole_naturaleza                   98581\n",
            "cole_nombre_establecimiento       98581\n",
            "cole_nombre_sede                  98581\n",
            "cole_sede_principal               98581\n",
            "desemp_ingles                      7308\n",
            "estu_cod_depto_presentacion          19\n",
            "estu_cod_mcpio_presentacion          19\n",
            "estu_cod_reside_depto              4444\n",
            "estu_cod_reside_mcpio              4444\n",
            "estu_dedicacioninternet          162720\n",
            "estu_dedicacionlecturadiaria     161636\n",
            "estu_depto_presentacion              19\n",
            "estu_depto_reside                  4444\n",
            "estu_etnia                       652050\n",
            "estu_fechanacimiento                  2\n",
            "estu_genero                           3\n",
            "estu_grado                        96524\n",
            "estu_horassemanatrabaja          142574\n",
            "estu_inse_individual             161408\n",
            "estu_mcpio_presentacion              19\n",
            "estu_mcpio_reside                  4444\n",
            "estu_nacionalidad                     1\n",
            "estu_nse_establecimiento          98597\n",
            "estu_nse_individual              161408\n",
            "estu_pais_reside                      1\n",
            "estu_privado_libertad                 1\n",
            "estu_repite                           4\n",
            "estu_tieneetnia                  656456\n",
            "estu_tiporemuneracion            143540\n",
            "fami_comecarnepescadohuevo       162125\n",
            "fami_comecerealfrutoslegumbre    163130\n",
            "fami_comelechederivados          161304\n",
            "fami_cuartoshogar                142782\n",
            "fami_educacionmadre              160590\n",
            "fami_educacionpadre              160261\n",
            "fami_estratovivienda              39517\n",
            "fami_numlibros                   175692\n",
            "fami_personashogar               141459\n",
            "fami_situacioneconomica          145498\n",
            "fami_tieneautomovil              143582\n",
            "fami_tienecomputador             142487\n",
            "fami_tieneconsolavideojuegos     143535\n",
            "fami_tienehornomicroogas         141477\n",
            "fami_tieneinternet               160697\n",
            "fami_tienelavadora               142504\n",
            "fami_tienemotocicleta            142511\n",
            "fami_tieneserviciotv             161776\n",
            "fami_trabajolabormadre           142775\n",
            "fami_trabajolaborpadre           142944\n",
            "percentil_global                   7308\n",
            "percentil_ingles                   7308\n",
            "punt_ingles                        7308\n",
            "dtype: int64\n"
          ]
        }
      ],
      "source": [
        "print(df.isnull().sum()[df.isnull().sum() > 0])"
      ]
    },
    {
      "cell_type": "markdown",
      "id": "HP0ShJdxTHaT",
      "metadata": {
        "id": "HP0ShJdxTHaT"
      },
      "source": [
        "Se observa que de las 84 variables, 66 presentan valores nulos."
      ]
    },
    {
      "cell_type": "code",
      "execution_count": 35,
      "id": "c8562276",
      "metadata": {
        "colab": {
          "base_uri": "https://localhost:8080/",
          "height": 349
        },
        "id": "c8562276",
        "outputId": "283db8a2-c308-4a69-b672-bb4ef5d31fbe"
      },
      "outputs": [
        {
          "data": {
            "text/html": [
              "<div>\n",
              "<style scoped>\n",
              "    .dataframe tbody tr th:only-of-type {\n",
              "        vertical-align: middle;\n",
              "    }\n",
              "\n",
              "    .dataframe tbody tr th {\n",
              "        vertical-align: top;\n",
              "    }\n",
              "\n",
              "    .dataframe thead th {\n",
              "        text-align: right;\n",
              "    }\n",
              "</style>\n",
              "<table border=\"1\" class=\"dataframe\">\n",
              "  <thead>\n",
              "    <tr style=\"text-align: right;\">\n",
              "      <th></th>\n",
              "      <th>periodo</th>\n",
              "      <th>cole_cod_dane_establecimiento</th>\n",
              "      <th>cole_cod_dane_sede</th>\n",
              "      <th>cole_cod_depto_ubicacion</th>\n",
              "      <th>cole_cod_mcpio_ubicacion</th>\n",
              "      <th>cole_codigo_icfes</th>\n",
              "      <th>desemp_c_naturales</th>\n",
              "      <th>desemp_lectura_critica</th>\n",
              "      <th>desemp_matematicas</th>\n",
              "      <th>desemp_sociales_ciudadanas</th>\n",
              "      <th>...</th>\n",
              "      <th>percentil_ingles</th>\n",
              "      <th>percentil_lectura_critica</th>\n",
              "      <th>percentil_matematicas</th>\n",
              "      <th>percentil_sociales_ciudadanas</th>\n",
              "      <th>punt_c_naturales</th>\n",
              "      <th>punt_global</th>\n",
              "      <th>punt_ingles</th>\n",
              "      <th>punt_lectura_critica</th>\n",
              "      <th>punt_matematicas</th>\n",
              "      <th>punt_sociales_ciudadanas</th>\n",
              "    </tr>\n",
              "  </thead>\n",
              "  <tbody>\n",
              "    <tr>\n",
              "      <th>count</th>\n",
              "      <td>676508.000000</td>\n",
              "      <td>5.779270e+05</td>\n",
              "      <td>5.779270e+05</td>\n",
              "      <td>577927.000000</td>\n",
              "      <td>577927.000000</td>\n",
              "      <td>577927.000000</td>\n",
              "      <td>676508.000000</td>\n",
              "      <td>676508.000000</td>\n",
              "      <td>676508.000000</td>\n",
              "      <td>676508.000000</td>\n",
              "      <td>...</td>\n",
              "      <td>669200.000000</td>\n",
              "      <td>676508.000000</td>\n",
              "      <td>676508.000000</td>\n",
              "      <td>676508.000000</td>\n",
              "      <td>676508.000000</td>\n",
              "      <td>676508.000000</td>\n",
              "      <td>669200.000000</td>\n",
              "      <td>676508.000000</td>\n",
              "      <td>676508.000000</td>\n",
              "      <td>676508.000000</td>\n",
              "    </tr>\n",
              "    <tr>\n",
              "      <th>mean</th>\n",
              "      <td>20241.875727</td>\n",
              "      <td>2.081932e+11</td>\n",
              "      <td>2.086724e+11</td>\n",
              "      <td>32.962215</td>\n",
              "      <td>33205.094716</td>\n",
              "      <td>327914.591381</td>\n",
              "      <td>2.145077</td>\n",
              "      <td>2.698822</td>\n",
              "      <td>2.496274</td>\n",
              "      <td>2.053526</td>\n",
              "      <td>...</td>\n",
              "      <td>47.079414</td>\n",
              "      <td>47.519966</td>\n",
              "      <td>47.587725</td>\n",
              "      <td>48.370473</td>\n",
              "      <td>50.281698</td>\n",
              "      <td>255.384978</td>\n",
              "      <td>51.580586</td>\n",
              "      <td>53.503808</td>\n",
              "      <td>51.724781</td>\n",
              "      <td>48.669348</td>\n",
              "    </tr>\n",
              "    <tr>\n",
              "      <th>std</th>\n",
              "      <td>0.329894</td>\n",
              "      <td>9.408361e+10</td>\n",
              "      <td>9.448952e+10</td>\n",
              "      <td>26.430266</td>\n",
              "      <td>26450.812269</td>\n",
              "      <td>303240.662261</td>\n",
              "      <td>0.791463</td>\n",
              "      <td>0.776735</td>\n",
              "      <td>0.799461</td>\n",
              "      <td>0.848082</td>\n",
              "      <td>...</td>\n",
              "      <td>28.920060</td>\n",
              "      <td>29.116195</td>\n",
              "      <td>29.059164</td>\n",
              "      <td>28.888190</td>\n",
              "      <td>11.044992</td>\n",
              "      <td>54.371379</td>\n",
              "      <td>13.318986</td>\n",
              "      <td>10.961292</td>\n",
              "      <td>13.236242</td>\n",
              "      <td>12.362031</td>\n",
              "    </tr>\n",
              "    <tr>\n",
              "      <th>min</th>\n",
              "      <td>20241.000000</td>\n",
              "      <td>1.050010e+11</td>\n",
              "      <td>1.050010e+11</td>\n",
              "      <td>5.000000</td>\n",
              "      <td>5001.000000</td>\n",
              "      <td>59.000000</td>\n",
              "      <td>1.000000</td>\n",
              "      <td>1.000000</td>\n",
              "      <td>1.000000</td>\n",
              "      <td>1.000000</td>\n",
              "      <td>...</td>\n",
              "      <td>1.000000</td>\n",
              "      <td>1.000000</td>\n",
              "      <td>1.000000</td>\n",
              "      <td>1.000000</td>\n",
              "      <td>0.000000</td>\n",
              "      <td>0.000000</td>\n",
              "      <td>0.000000</td>\n",
              "      <td>0.000000</td>\n",
              "      <td>0.000000</td>\n",
              "      <td>0.000000</td>\n",
              "    </tr>\n",
              "    <tr>\n",
              "      <th>25%</th>\n",
              "      <td>20242.000000</td>\n",
              "      <td>1.190010e+11</td>\n",
              "      <td>1.190010e+11</td>\n",
              "      <td>11.000000</td>\n",
              "      <td>11001.000000</td>\n",
              "      <td>72389.000000</td>\n",
              "      <td>2.000000</td>\n",
              "      <td>2.000000</td>\n",
              "      <td>2.000000</td>\n",
              "      <td>1.000000</td>\n",
              "      <td>...</td>\n",
              "      <td>22.000000</td>\n",
              "      <td>22.000000</td>\n",
              "      <td>22.000000</td>\n",
              "      <td>23.000000</td>\n",
              "      <td>42.000000</td>\n",
              "      <td>214.000000</td>\n",
              "      <td>43.000000</td>\n",
              "      <td>46.000000</td>\n",
              "      <td>42.000000</td>\n",
              "      <td>39.000000</td>\n",
              "    </tr>\n",
              "    <tr>\n",
              "      <th>50%</th>\n",
              "      <td>20242.000000</td>\n",
              "      <td>1.760010e+11</td>\n",
              "      <td>1.760010e+11</td>\n",
              "      <td>23.000000</td>\n",
              "      <td>23001.000000</td>\n",
              "      <td>160556.000000</td>\n",
              "      <td>2.000000</td>\n",
              "      <td>3.000000</td>\n",
              "      <td>3.000000</td>\n",
              "      <td>2.000000</td>\n",
              "      <td>...</td>\n",
              "      <td>45.000000</td>\n",
              "      <td>46.000000</td>\n",
              "      <td>46.000000</td>\n",
              "      <td>47.000000</td>\n",
              "      <td>50.000000</td>\n",
              "      <td>252.000000</td>\n",
              "      <td>49.000000</td>\n",
              "      <td>54.000000</td>\n",
              "      <td>52.000000</td>\n",
              "      <td>48.000000</td>\n",
              "    </tr>\n",
              "    <tr>\n",
              "      <th>75%</th>\n",
              "      <td>20242.000000</td>\n",
              "      <td>3.080010e+11</td>\n",
              "      <td>3.080010e+11</td>\n",
              "      <td>54.000000</td>\n",
              "      <td>54001.000000</td>\n",
              "      <td>717579.000000</td>\n",
              "      <td>3.000000</td>\n",
              "      <td>3.000000</td>\n",
              "      <td>3.000000</td>\n",
              "      <td>3.000000</td>\n",
              "      <td>...</td>\n",
              "      <td>72.000000</td>\n",
              "      <td>72.000000</td>\n",
              "      <td>72.000000</td>\n",
              "      <td>73.000000</td>\n",
              "      <td>58.000000</td>\n",
              "      <td>294.000000</td>\n",
              "      <td>59.000000</td>\n",
              "      <td>61.000000</td>\n",
              "      <td>61.000000</td>\n",
              "      <td>58.000000</td>\n",
              "    </tr>\n",
              "    <tr>\n",
              "      <th>max</th>\n",
              "      <td>20242.000000</td>\n",
              "      <td>5.684320e+11</td>\n",
              "      <td>8.180011e+11</td>\n",
              "      <td>99.000000</td>\n",
              "      <td>99773.000000</td>\n",
              "      <td>819656.000000</td>\n",
              "      <td>4.000000</td>\n",
              "      <td>4.000000</td>\n",
              "      <td>4.000000</td>\n",
              "      <td>4.000000</td>\n",
              "      <td>...</td>\n",
              "      <td>100.000000</td>\n",
              "      <td>100.000000</td>\n",
              "      <td>100.000000</td>\n",
              "      <td>100.000000</td>\n",
              "      <td>100.000000</td>\n",
              "      <td>496.000000</td>\n",
              "      <td>100.000000</td>\n",
              "      <td>100.000000</td>\n",
              "      <td>100.000000</td>\n",
              "      <td>100.000000</td>\n",
              "    </tr>\n",
              "  </tbody>\n",
              "</table>\n",
              "<p>8 rows × 31 columns</p>\n",
              "</div>"
            ],
            "text/plain": [
              "             periodo  cole_cod_dane_establecimiento  cole_cod_dane_sede  \\\n",
              "count  676508.000000                   5.779270e+05        5.779270e+05   \n",
              "mean    20241.875727                   2.081932e+11        2.086724e+11   \n",
              "std         0.329894                   9.408361e+10        9.448952e+10   \n",
              "min     20241.000000                   1.050010e+11        1.050010e+11   \n",
              "25%     20242.000000                   1.190010e+11        1.190010e+11   \n",
              "50%     20242.000000                   1.760010e+11        1.760010e+11   \n",
              "75%     20242.000000                   3.080010e+11        3.080010e+11   \n",
              "max     20242.000000                   5.684320e+11        8.180011e+11   \n",
              "\n",
              "       cole_cod_depto_ubicacion  cole_cod_mcpio_ubicacion  cole_codigo_icfes  \\\n",
              "count             577927.000000             577927.000000      577927.000000   \n",
              "mean                  32.962215              33205.094716      327914.591381   \n",
              "std                   26.430266              26450.812269      303240.662261   \n",
              "min                    5.000000               5001.000000          59.000000   \n",
              "25%                   11.000000              11001.000000       72389.000000   \n",
              "50%                   23.000000              23001.000000      160556.000000   \n",
              "75%                   54.000000              54001.000000      717579.000000   \n",
              "max                   99.000000              99773.000000      819656.000000   \n",
              "\n",
              "       desemp_c_naturales  desemp_lectura_critica  desemp_matematicas  \\\n",
              "count       676508.000000           676508.000000       676508.000000   \n",
              "mean             2.145077                2.698822            2.496274   \n",
              "std              0.791463                0.776735            0.799461   \n",
              "min              1.000000                1.000000            1.000000   \n",
              "25%              2.000000                2.000000            2.000000   \n",
              "50%              2.000000                3.000000            3.000000   \n",
              "75%              3.000000                3.000000            3.000000   \n",
              "max              4.000000                4.000000            4.000000   \n",
              "\n",
              "       desemp_sociales_ciudadanas  ...  percentil_ingles  \\\n",
              "count               676508.000000  ...     669200.000000   \n",
              "mean                     2.053526  ...         47.079414   \n",
              "std                      0.848082  ...         28.920060   \n",
              "min                      1.000000  ...          1.000000   \n",
              "25%                      1.000000  ...         22.000000   \n",
              "50%                      2.000000  ...         45.000000   \n",
              "75%                      3.000000  ...         72.000000   \n",
              "max                      4.000000  ...        100.000000   \n",
              "\n",
              "       percentil_lectura_critica  percentil_matematicas  \\\n",
              "count              676508.000000          676508.000000   \n",
              "mean                   47.519966              47.587725   \n",
              "std                    29.116195              29.059164   \n",
              "min                     1.000000               1.000000   \n",
              "25%                    22.000000              22.000000   \n",
              "50%                    46.000000              46.000000   \n",
              "75%                    72.000000              72.000000   \n",
              "max                   100.000000             100.000000   \n",
              "\n",
              "       percentil_sociales_ciudadanas  punt_c_naturales    punt_global  \\\n",
              "count                  676508.000000     676508.000000  676508.000000   \n",
              "mean                       48.370473         50.281698     255.384978   \n",
              "std                        28.888190         11.044992      54.371379   \n",
              "min                         1.000000          0.000000       0.000000   \n",
              "25%                        23.000000         42.000000     214.000000   \n",
              "50%                        47.000000         50.000000     252.000000   \n",
              "75%                        73.000000         58.000000     294.000000   \n",
              "max                       100.000000        100.000000     496.000000   \n",
              "\n",
              "         punt_ingles  punt_lectura_critica  punt_matematicas  \\\n",
              "count  669200.000000         676508.000000     676508.000000   \n",
              "mean       51.580586             53.503808         51.724781   \n",
              "std        13.318986             10.961292         13.236242   \n",
              "min         0.000000              0.000000          0.000000   \n",
              "25%        43.000000             46.000000         42.000000   \n",
              "50%        49.000000             54.000000         52.000000   \n",
              "75%        59.000000             61.000000         61.000000   \n",
              "max       100.000000            100.000000        100.000000   \n",
              "\n",
              "       punt_sociales_ciudadanas  \n",
              "count             676508.000000  \n",
              "mean                  48.669348  \n",
              "std                   12.362031  \n",
              "min                    0.000000  \n",
              "25%                   39.000000  \n",
              "50%                   48.000000  \n",
              "75%                   58.000000  \n",
              "max                  100.000000  \n",
              "\n",
              "[8 rows x 31 columns]"
            ]
          },
          "execution_count": 35,
          "metadata": {},
          "output_type": "execute_result"
        }
      ],
      "source": [
        "df.describe()"
      ]
    },
    {
      "cell_type": "markdown",
      "id": "1Cqg4VMXGsKB",
      "metadata": {
        "id": "1Cqg4VMXGsKB"
      },
      "source": [
        "## Analisis Univariado"
      ]
    },
    {
      "cell_type": "markdown",
      "id": "dURB2n5aGuW5",
      "metadata": {
        "id": "dURB2n5aGuW5"
      },
      "source": [
        "Como punto de partida en este notebook, y en el marco del análisis estadístico propuesto, se realizará un análisis univariado de la variable que consideramos central para el estudio: **punt_global**. Esta variable representa el puntaje total obtenido por cada estudiante en su intento del examen Saber 11, y será clave para comprender la distribución general del rendimiento académico dentro del conjunto de datos."
      ]
    },
    {
      "cell_type": "markdown",
      "id": "Z8-n6gZHHkAb",
      "metadata": {
        "id": "Z8-n6gZHHkAb"
      },
      "source": [
        "La variable **punt_global** muestra especial relevancia en este análisis, ya que constituye nuestra variable respuesta. Esta refleja, de manera agregada, el desempeño académico del estudiante en el examen Saber 11, proporcionando una aproximación al nivel de aprendizaje alcanzado al finalizar su etapa escolar. A partir de su comportamiento y en contraste con otras variables del conjunto de datos, es posible formular hipótesis sobre la influencia de diversos factores del entorno cotidiano en el proceso de aprendizaje de los jóvenes."
      ]
    },
    {
      "cell_type": "code",
      "execution_count": 36,
      "id": "VttYFHzHYZu9",
      "metadata": {
        "colab": {
          "base_uri": "https://localhost:8080/"
        },
        "id": "VttYFHzHYZu9",
        "outputId": "e3c7621f-56c0-4300-9ea2-3fab8c5c9ce8"
      },
      "outputs": [
        {
          "name": "stdout",
          "output_type": "stream",
          "text": [
            "Estadísticas descriptivas punt_global:\n",
            " count    676508.000000\n",
            "mean        255.384978\n",
            "std          54.371379\n",
            "min           0.000000\n",
            "25%         214.000000\n",
            "50%         252.000000\n",
            "75%         294.000000\n",
            "max         496.000000\n",
            "Name: punt_global, dtype: float64\n"
          ]
        }
      ],
      "source": [
        "punt_global = df['punt_global'].dropna()\n",
        "stats = punt_global.describe()\n",
        "print(\"Estadísticas descriptivas punt_global:\\n\", stats)"
      ]
    },
    {
      "cell_type": "markdown",
      "id": "dR4F7T1ZY2TC",
      "metadata": {
        "id": "dR4F7T1ZY2TC"
      },
      "source": [
        "Como existen puntajes con valor cero, se decide omitirlos en este analisis univariado porque es posible que sea un error operativo tal vez de las maquinas o artefactos utiizados para leer la cartilla de respuestas, que en este caso podria ser que no se tuvo una correcta lectura de la información."
      ]
    },
    {
      "cell_type": "code",
      "execution_count": 37,
      "id": "zhSCu85QXiz8",
      "metadata": {
        "colab": {
          "base_uri": "https://localhost:8080/"
        },
        "id": "zhSCu85QXiz8",
        "outputId": "6d96beef-5f2d-4949-dd69-efbf1eb3ba7f"
      },
      "outputs": [
        {
          "name": "stdout",
          "output_type": "stream",
          "text": [
            "Número de estudiantes con punt_global igual a 0: 5\n"
          ]
        }
      ],
      "source": [
        "df_0 = df[df['punt_global'] == 0]\n",
        "print(\"Número de estudiantes con punt_global igual a 0:\", len(df_0))"
      ]
    },
    {
      "cell_type": "code",
      "execution_count": 38,
      "id": "enO8ucegXonw",
      "metadata": {
        "colab": {
          "base_uri": "https://localhost:8080/",
          "height": 255
        },
        "id": "enO8ucegXonw",
        "outputId": "d81f4c0c-4941-485a-9f66-fa23b1b15243"
      },
      "outputs": [
        {
          "data": {
            "text/html": [
              "<div>\n",
              "<style scoped>\n",
              "    .dataframe tbody tr th:only-of-type {\n",
              "        vertical-align: middle;\n",
              "    }\n",
              "\n",
              "    .dataframe tbody tr th {\n",
              "        vertical-align: top;\n",
              "    }\n",
              "\n",
              "    .dataframe thead th {\n",
              "        text-align: right;\n",
              "    }\n",
              "</style>\n",
              "<table border=\"1\" class=\"dataframe\">\n",
              "  <thead>\n",
              "    <tr style=\"text-align: right;\">\n",
              "      <th></th>\n",
              "      <th>periodo</th>\n",
              "      <th>estu_consecutivo</th>\n",
              "      <th>estu_estudiante</th>\n",
              "      <th>estu_tipodocumento</th>\n",
              "      <th>cole_area_ubicacion</th>\n",
              "      <th>cole_bilingue</th>\n",
              "      <th>cole_calendario</th>\n",
              "      <th>cole_caracter</th>\n",
              "      <th>cole_cod_dane_establecimiento</th>\n",
              "      <th>cole_cod_dane_sede</th>\n",
              "      <th>...</th>\n",
              "      <th>percentil_ingles</th>\n",
              "      <th>percentil_lectura_critica</th>\n",
              "      <th>percentil_matematicas</th>\n",
              "      <th>percentil_sociales_ciudadanas</th>\n",
              "      <th>punt_c_naturales</th>\n",
              "      <th>punt_global</th>\n",
              "      <th>punt_ingles</th>\n",
              "      <th>punt_lectura_critica</th>\n",
              "      <th>punt_matematicas</th>\n",
              "      <th>punt_sociales_ciudadanas</th>\n",
              "    </tr>\n",
              "  </thead>\n",
              "  <tbody>\n",
              "    <tr>\n",
              "      <th>66189</th>\n",
              "      <td>20241</td>\n",
              "      <td>SB11202410017916</td>\n",
              "      <td>INDIVIDUAL</td>\n",
              "      <td>TI</td>\n",
              "      <td>NaN</td>\n",
              "      <td>NaN</td>\n",
              "      <td>NaN</td>\n",
              "      <td>NaN</td>\n",
              "      <td>NaN</td>\n",
              "      <td>NaN</td>\n",
              "      <td>...</td>\n",
              "      <td>1.0</td>\n",
              "      <td>1</td>\n",
              "      <td>1</td>\n",
              "      <td>1</td>\n",
              "      <td>0</td>\n",
              "      <td>0</td>\n",
              "      <td>0.0</td>\n",
              "      <td>0</td>\n",
              "      <td>0</td>\n",
              "      <td>0</td>\n",
              "    </tr>\n",
              "    <tr>\n",
              "      <th>76893</th>\n",
              "      <td>20241</td>\n",
              "      <td>SB11202410078907</td>\n",
              "      <td>INDIVIDUAL</td>\n",
              "      <td>CC</td>\n",
              "      <td>NaN</td>\n",
              "      <td>NaN</td>\n",
              "      <td>NaN</td>\n",
              "      <td>NaN</td>\n",
              "      <td>NaN</td>\n",
              "      <td>NaN</td>\n",
              "      <td>...</td>\n",
              "      <td>1.0</td>\n",
              "      <td>1</td>\n",
              "      <td>1</td>\n",
              "      <td>1</td>\n",
              "      <td>0</td>\n",
              "      <td>0</td>\n",
              "      <td>0.0</td>\n",
              "      <td>0</td>\n",
              "      <td>0</td>\n",
              "      <td>0</td>\n",
              "    </tr>\n",
              "    <tr>\n",
              "      <th>448869</th>\n",
              "      <td>20242</td>\n",
              "      <td>SB11202430418380</td>\n",
              "      <td>ESTUDIANTE</td>\n",
              "      <td>CC</td>\n",
              "      <td>URBANO</td>\n",
              "      <td>N</td>\n",
              "      <td>A</td>\n",
              "      <td>TÉCNICO/ACADÉMICO</td>\n",
              "      <td>3.050010e+11</td>\n",
              "      <td>3.050010e+11</td>\n",
              "      <td>...</td>\n",
              "      <td>1.0</td>\n",
              "      <td>1</td>\n",
              "      <td>1</td>\n",
              "      <td>1</td>\n",
              "      <td>0</td>\n",
              "      <td>0</td>\n",
              "      <td>0.0</td>\n",
              "      <td>0</td>\n",
              "      <td>0</td>\n",
              "      <td>0</td>\n",
              "    </tr>\n",
              "    <tr>\n",
              "      <th>508297</th>\n",
              "      <td>20242</td>\n",
              "      <td>SB11202430451253</td>\n",
              "      <td>ESTUDIANTE</td>\n",
              "      <td>CC</td>\n",
              "      <td>URBANO</td>\n",
              "      <td>N</td>\n",
              "      <td>A</td>\n",
              "      <td>ACADÉMICO</td>\n",
              "      <td>3.080010e+11</td>\n",
              "      <td>3.080010e+11</td>\n",
              "      <td>...</td>\n",
              "      <td>1.0</td>\n",
              "      <td>1</td>\n",
              "      <td>1</td>\n",
              "      <td>1</td>\n",
              "      <td>0</td>\n",
              "      <td>0</td>\n",
              "      <td>0.0</td>\n",
              "      <td>0</td>\n",
              "      <td>0</td>\n",
              "      <td>0</td>\n",
              "    </tr>\n",
              "    <tr>\n",
              "      <th>525016</th>\n",
              "      <td>20242</td>\n",
              "      <td>SB11202430157578</td>\n",
              "      <td>ESTUDIANTE</td>\n",
              "      <td>TI</td>\n",
              "      <td>URBANO</td>\n",
              "      <td>N</td>\n",
              "      <td>A</td>\n",
              "      <td>TÉCNICO/ACADÉMICO</td>\n",
              "      <td>1.540010e+11</td>\n",
              "      <td>1.540010e+11</td>\n",
              "      <td>...</td>\n",
              "      <td>1.0</td>\n",
              "      <td>1</td>\n",
              "      <td>1</td>\n",
              "      <td>1</td>\n",
              "      <td>0</td>\n",
              "      <td>0</td>\n",
              "      <td>0.0</td>\n",
              "      <td>0</td>\n",
              "      <td>0</td>\n",
              "      <td>0</td>\n",
              "    </tr>\n",
              "  </tbody>\n",
              "</table>\n",
              "<p>5 rows × 84 columns</p>\n",
              "</div>"
            ],
            "text/plain": [
              "        periodo  estu_consecutivo estu_estudiante estu_tipodocumento  \\\n",
              "66189     20241  SB11202410017916      INDIVIDUAL                 TI   \n",
              "76893     20241  SB11202410078907      INDIVIDUAL                 CC   \n",
              "448869    20242  SB11202430418380      ESTUDIANTE                 CC   \n",
              "508297    20242  SB11202430451253      ESTUDIANTE                 CC   \n",
              "525016    20242  SB11202430157578      ESTUDIANTE                 TI   \n",
              "\n",
              "       cole_area_ubicacion cole_bilingue cole_calendario      cole_caracter  \\\n",
              "66189                  NaN           NaN             NaN                NaN   \n",
              "76893                  NaN           NaN             NaN                NaN   \n",
              "448869              URBANO             N               A  TÉCNICO/ACADÉMICO   \n",
              "508297              URBANO             N               A          ACADÉMICO   \n",
              "525016              URBANO             N               A  TÉCNICO/ACADÉMICO   \n",
              "\n",
              "        cole_cod_dane_establecimiento  cole_cod_dane_sede  ...  \\\n",
              "66189                             NaN                 NaN  ...   \n",
              "76893                             NaN                 NaN  ...   \n",
              "448869                   3.050010e+11        3.050010e+11  ...   \n",
              "508297                   3.080010e+11        3.080010e+11  ...   \n",
              "525016                   1.540010e+11        1.540010e+11  ...   \n",
              "\n",
              "        percentil_ingles  percentil_lectura_critica  percentil_matematicas  \\\n",
              "66189                1.0                          1                      1   \n",
              "76893                1.0                          1                      1   \n",
              "448869               1.0                          1                      1   \n",
              "508297               1.0                          1                      1   \n",
              "525016               1.0                          1                      1   \n",
              "\n",
              "       percentil_sociales_ciudadanas punt_c_naturales punt_global punt_ingles  \\\n",
              "66189                              1                0           0         0.0   \n",
              "76893                              1                0           0         0.0   \n",
              "448869                             1                0           0         0.0   \n",
              "508297                             1                0           0         0.0   \n",
              "525016                             1                0           0         0.0   \n",
              "\n",
              "       punt_lectura_critica punt_matematicas punt_sociales_ciudadanas  \n",
              "66189                     0                0                        0  \n",
              "76893                     0                0                        0  \n",
              "448869                    0                0                        0  \n",
              "508297                    0                0                        0  \n",
              "525016                    0                0                        0  \n",
              "\n",
              "[5 rows x 84 columns]"
            ]
          },
          "execution_count": 38,
          "metadata": {},
          "output_type": "execute_result"
        }
      ],
      "source": [
        "df_0"
      ]
    },
    {
      "cell_type": "code",
      "execution_count": 39,
      "id": "iovIHckLXuvw",
      "metadata": {
        "id": "iovIHckLXuvw"
      },
      "outputs": [],
      "source": [
        "df = df[df['punt_global'] != 0]"
      ]
    },
    {
      "cell_type": "code",
      "execution_count": 40,
      "id": "8f61eea8",
      "metadata": {
        "colab": {
          "base_uri": "https://localhost:8080/"
        },
        "id": "8f61eea8",
        "outputId": "501180ce-d95f-4d7c-d950-e600d9e1a1ff"
      },
      "outputs": [
        {
          "name": "stdout",
          "output_type": "stream",
          "text": [
            "Estadísticas descriptivas punt_global:\n",
            " count    676503.000000\n",
            "mean        255.386866\n",
            "std          54.367147\n",
            "min          10.000000\n",
            "25%         214.000000\n",
            "50%         252.000000\n",
            "75%         294.000000\n",
            "max         496.000000\n",
            "Name: punt_global, dtype: float64\n"
          ]
        }
      ],
      "source": [
        "punt_global = df['punt_global'].dropna()\n",
        "stats = punt_global.describe()\n",
        "print(\"Estadísticas descriptivas punt_global:\\n\", stats)"
      ]
    },
    {
      "cell_type": "markdown",
      "id": "iXnE7mqvZ3Lw",
      "metadata": {
        "id": "iXnE7mqvZ3Lw"
      },
      "source": [
        "Luego de omitir los cinco puntajes iguales a cero, se obtiene que el puntaje promedio es de 255 y es similar a la mediana de 252 puntos. Además, la desviación estándar de 54 parece indicar que no hay mucha dispersión en los datos. También se observa que el puntaje minimo es de 10 y el mayor puntaje registrado en el 2024 fue de 496."
      ]
    },
    {
      "cell_type": "code",
      "execution_count": 41,
      "id": "ujmACJyEPhRt",
      "metadata": {
        "colab": {
          "base_uri": "https://localhost:8080/",
          "height": 391
        },
        "id": "ujmACJyEPhRt",
        "outputId": "1abba2c5-6ea9-4b08-ef80-72fd01b947ce"
      },
      "outputs": [
        {
          "data": {
            "image/png": "[encoded data removed]",
            "text/plain": [
              "<Figure size 1400x500 with 2 Axes>"
            ]
          },
          "metadata": {},
          "output_type": "display_data"
        },
        {
          "name": "stdout",
          "output_type": "stream",
          "text": [
            "Limite Inferior: 94.0\n",
            "Limite Superior: 414.0\n"
          ]
        }
      ],
      "source": [
        "fig, axes = plt.subplots(1, 2, figsize=(14, 5))\n",
        "\n",
        "sns.histplot(punt_global, kde=True, ax=axes[0], color=icesi_blue, line_kws={'color': icesi_green, 'linewidth': 2})\n",
        "axes[0].set_title(\"Histograma y KDE de Puntaje Global\", pad=15)\n",
        "axes[0].set_xlabel(\"Puntaje Global\")\n",
        "axes[0].set_ylabel(\"Frecuencia\")\n",
        "axes[0].set_xlim(0, 500)\n",
        "\n",
        "sns.boxplot(x=punt_global, ax=axes[1], color=icesi_green, showmeans=True,\n",
        "            meanprops={\"marker\": \"o\", \"markerfacecolor\": icesi_yellow, \"markeredgecolor\": icesi_blue, \"markersize\": 9})\n",
        "axes[1].set_title(\"Boxplot de Puntaje Global\", pad=15)\n",
        "axes[1].set_xlabel(\"Puntaje Global\")\n",
        "axes[1].set_xlim(0, 500)\n",
        "\n",
        "for spine in axes[0].spines.values(): spine.set_visible(False)\n",
        "for spine in axes[1].spines.values(): spine.set_visible(False)\n",
        "\n",
        "plt.tight_layout()\n",
        "plt.show()\n",
        "\n",
        "Q1 = punt_global.quantile(0.25)\n",
        "Q3 = punt_global.quantile(0.75)\n",
        "IQR = Q3 - Q1\n",
        "\n",
        "lower_bound = Q1 - 1.5 * IQR\n",
        "upper_bound = Q3 + 1.5 * IQR\n",
        "\n",
        "\n",
        "print(f\"Limite Inferior: {lower_bound}\")\n",
        "print(f\"Limite Superior: {upper_bound}\")"
      ]
    },
    {
      "cell_type": "markdown",
      "id": "mAPayj_hPbZq",
      "metadata": {
        "id": "mAPayj_hPbZq"
      },
      "source": [
        "En el histograma del puntaje se observa que a grandes rasgos parece que dicha variable se distribuye normal pero se tendría que realizar una prueba formal de normalidad para comprobarlo.\n",
        "\n",
        "Por otra parte, en el boxplot se observa que un puntaje se considera atípico si es menor que 94 y mayor que 414. Tambien se observa que el 50% de los puntajes se encuentra entre 214 y 294 según el cuartil 1 y 3."
      ]
    },
    {
      "cell_type": "code",
      "execution_count": 42,
      "id": "1d550170",
      "metadata": {
        "colab": {
          "base_uri": "https://localhost:8080/"
        },
        "id": "1d550170",
        "outputId": "6fc4d202-13b4-4c20-a4bc-51a4e3561c27"
      },
      "outputs": [
        {
          "name": "stdout",
          "output_type": "stream",
          "text": [
            "La distribución de punt_global no es normal (rechazamos H0)\n"
          ]
        }
      ],
      "source": [
        "stat, p = normaltest(punt_global)\n",
        "alpha = 0.05\n",
        "if p < alpha:\n",
        "    print(\"La distribución de punt_global no es normal (rechazamos H0)\")\n",
        "else:\n",
        "    print(\"La distribución de punt_global es normal (no rechazamos H0)\")"
      ]
    },
    {
      "cell_type": "markdown",
      "id": "EM6Nl7GvQM71",
      "metadata": {
        "id": "EM6Nl7GvQM71"
      },
      "source": [
        "Al realizar la prueba de normalidad se observa que la variable puntaje no sigue una distribución normal como se habia observado a grandes rasgos en el histograma anterior."
      ]
    },
    {
      "cell_type": "code",
      "execution_count": 43,
      "id": "020bb61f",
      "metadata": {
        "colab": {
          "base_uri": "https://localhost:8080/"
        },
        "id": "020bb61f",
        "outputId": "326028dd-cbe0-4784-e192-6d0f0b5b0896"
      },
      "outputs": [
        {
          "name": "stdout",
          "output_type": "stream",
          "text": [
            "punt_global\n",
            "1-99           91\n",
            "100-199    112669\n",
            "200-299    413520\n",
            "300-399    147496\n",
            "400-500      2727\n",
            "Name: count, dtype: int64\n"
          ]
        }
      ],
      "source": [
        "intervals = pd.cut(punt_global, bins=[1, 100, 200, 300, 400, 500], right=False, labels=['1-99', '100-199', '200-299', '300-399', '400-500'])\n",
        "counts = intervals.value_counts().sort_index()\n",
        "print(counts)"
      ]
    },
    {
      "cell_type": "markdown",
      "id": "Y3jJQpP3gDcr",
      "metadata": {
        "id": "Y3jJQpP3gDcr"
      },
      "source": [
        "Se decide codificar la variable puntaje en cinco intervalos de tamaño 100 para ver las frecuencias por intervalo."
      ]
    },
    {
      "cell_type": "code",
      "execution_count": 44,
      "id": "ff7dea8b",
      "metadata": {
        "colab": {
          "base_uri": "https://localhost:8080/",
          "height": 481
        },
        "id": "ff7dea8b",
        "outputId": "df095738-a394-4586-f2ce-1a316f21b468"
      },
      "outputs": [
        {
          "data": {
            "image/png": "[encoded data removed]",
            "text/plain": [
              "<Figure size 640x480 with 1 Axes>"
            ]
          },
          "metadata": {},
          "output_type": "display_data"
        }
      ],
      "source": [
        "counts.plot(kind='bar', color=icesi_blue)\n",
        "plt.title('Distribución de Puntaje Global por Intervalos', pad=15)\n",
        "plt.xlabel('Intervalos de puntaje')\n",
        "plt.ylabel('Cantidad de estudiantes')\n",
        "plt.xticks(rotation=45)\n",
        "\n",
        "for spine in plt.gca().spines.values():\n",
        "    spine.set_visible(False)\n",
        "\n",
        "plt.tight_layout()\n",
        "plt.show()"
      ]
    },
    {
      "cell_type": "markdown",
      "id": "huYSbFEEgffN",
      "metadata": {
        "id": "huYSbFEEgffN"
      },
      "source": [
        "De la gráfica anterior se observa que la mayor proporción de puntajes se encuentra entre 200 y 299, similar a lo encontrado en el boxplot."
      ]
    },
    {
      "cell_type": "markdown",
      "id": "Ry97D9Glg31M",
      "metadata": {
        "id": "Ry97D9Glg31M"
      },
      "source": [
        "## Conclusiones\n",
        "Analizando la situación de los puntajes obtenidos por los jóvenes que realizaron el examen saber 11 en el año 2024 logramos destacar unos comportamientos referentes a una tendencia a lo que se podría considerar un bajo puntaje, haciendo aún más el contraste con la realidad que muchas universidades exigen un mínimo de 300 en promedio para ingresar a estas (ej: Universidad del Valle, Universidad Javeriana, Universidad Distrital, etc.) lo cual a grandes rasgos causa cierta preocupación sobre la situación académica del país. De manera más técnica se logra ver que se cuenta con una gran cantidad de observaciones bajo esta variable, dándonos la posibilidad de ejecutar diferentes ajustes a los datos en caso de ser necesaria la eliminación de registros por valores faltantes en las demás variables, dada la situación de que no se opte por usar métodos de imputación. Finalmente la variable punt_global se encuentra en óptimo estado para ser utilizada en futuros pasos de este análisis y es capaz de representar una realidad del país.\n"
      ]
    },
    {
      "cell_type": "markdown",
      "id": "4ce41c92",
      "metadata": {},
      "source": [
        "## Análisis Bivariado (Estrato socioeconomico)"
      ]
    },
    {
      "cell_type": "markdown",
      "id": "840dba43",
      "metadata": {},
      "source": [
        "Para continuar el análisis del puntaje global de la prueba, se elige la variable **fami_estratovivienda** con el fin de determinar si existe alguna diferencia entre los puntajes por estrato socioeconómico.\n",
        "\n",
        "El porqué nos decidimos iniciar con esta variable radica en que el estrato socioeconómico de un hogar representa una clasificación (bajo 1 a alto 6) de viviendas mediante características del entorno, dándonos así una idea preliminar de la situación del hogar del estudiante y si esta influye en el desempeño académico del evaluado."
      ]
    },
    {
      "cell_type": "code",
      "execution_count": 45,
      "id": "91fe9f5e",
      "metadata": {},
      "outputs": [
        {
          "name": "stdout",
          "output_type": "stream",
          "text": [
            "<class 'pandas.core.frame.DataFrame'>\n",
            "Index: 636986 entries, 0 to 673302\n",
            "Data columns (total 2 columns):\n",
            " #   Column                Non-Null Count   Dtype   \n",
            "---  ------                --------------   -----   \n",
            " 0   punt_global           636986 non-null  int64   \n",
            " 1   fami_estratovivienda  636986 non-null  category\n",
            "dtypes: category(1), int64(1)\n",
            "memory usage: 10.3 MB\n"
          ]
        }
      ],
      "source": [
        "#Se define el orden de los estratos\n",
        "estrato_order = [\n",
        "    'Sin Estrato',\n",
        "    'Estrato 1',\n",
        "    'Estrato 2',\n",
        "    'Estrato 3',\n",
        "    'Estrato 4',\n",
        "    'Estrato 5',\n",
        "    'Estrato 6'\n",
        "]\n",
        "\n",
        "df['fami_estratovivienda'] = pd.Categorical(\n",
        "    df['fami_estratovivienda'],\n",
        "    categories=estrato_order,\n",
        "    ordered=True\n",
        ")\n",
        "#Se crea un dataframe con las dos variables a analizar\n",
        "df_f = df[['punt_global','fami_estratovivienda']].dropna()\n",
        "df_f.info()"
      ]
    },
    {
      "cell_type": "code",
      "execution_count": 46,
      "id": "896aa6a7",
      "metadata": {},
      "outputs": [
        {
          "name": "stdout",
          "output_type": "stream",
          "text": [
            "fami_estratovivienda\n",
            "Sin Estrato     27496\n",
            "Estrato 1      193641\n",
            "Estrato 2      217577\n",
            "Estrato 3      138887\n",
            "Estrato 4       39144\n",
            "Estrato 5       13030\n",
            "Estrato 6        7211\n",
            "Name: count, dtype: int64\n"
          ]
        }
      ],
      "source": [
        "estrato_counts = df_f['fami_estratovivienda'].value_counts().reindex(estrato_order)\n",
        "print(estrato_counts)"
      ]
    },
    {
      "cell_type": "code",
      "execution_count": 47,
      "id": "15d34519",
      "metadata": {},
      "outputs": [
        {
          "data": {
            "image/png": "[encoded data removed]",
            "text/plain": [
              "<Figure size 640x480 with 1 Axes>"
            ]
          },
          "metadata": {},
          "output_type": "display_data"
        }
      ],
      "source": [
        "estrato_counts.plot(kind='bar', color=icesi_blue)\n",
        "plt.title('Distribución de Estrato de Vivienda', pad=15)\n",
        "plt.xlabel('Estrato de Vivienda')\n",
        "plt.ylabel('Cantidad de estudiantes')\n",
        "plt.xticks(rotation=30)\n",
        "for spine in plt.gca().spines.values():\n",
        "    spine.set_visible(False)\n",
        "\n",
        "# Agregar porcentaje a cada categoría\n",
        "total = len(df_f)\n",
        "for i, count in enumerate(estrato_counts):\n",
        "    percentage = f'{(count / total) * 100:.1f}%'\n",
        "    plt.text(i, count, percentage, ha='center', va='bottom', fontsize=10)\n",
        "\n",
        "plt.tight_layout()\n",
        "plt.show()"
      ]
    },
    {
      "cell_type": "markdown",
      "id": "fd880715",
      "metadata": {},
      "source": [
        "En la gráfica anterior se observa que el estrato con mayor cantidad de estudiantes es el estrato 2, seguido de los estratos 1 y 3. Estos 3 estratos contienen el 86.4% de los evaluados."
      ]
    },
    {
      "cell_type": "code",
      "execution_count": 48,
      "id": "766ca33c",
      "metadata": {},
      "outputs": [
        {
          "data": {
            "image/png": "[encoded data removed]",
            "text/plain": [
              "<Figure size 1000x600 with 1 Axes>"
            ]
          },
          "metadata": {},
          "output_type": "display_data"
        }
      ],
      "source": [
        "estratos = sorted(df_f['fami_estratovivienda'].unique(), key=lambda x: (x != 'Sin Estrato', x))\n",
        "palette = sns.color_palette(\"blend:\" + icesi_blue + \",\" + icesi_green, n_colors=len(estratos))\n",
        "\n",
        "plt.figure(figsize=(10, 6))\n",
        "sns.boxplot(x='fami_estratovivienda', y='punt_global', data=df_f, order=estratos, palette=palette, showmeans=True, meanprops={\"marker\": \"o\", \"markerfacecolor\": \"#E4EB60\", \"markeredgecolor\": icesi_blue, \"markersize\": 9})\n",
        "plt.title('Puntaje Global por Estrato de Vivienda', pad=15)\n",
        "plt.xlabel('Estrato de Vivienda')\n",
        "plt.ylabel('Puntaje Global')\n",
        "plt.xticks(rotation=30)\n",
        "plt.ylim(0, 500)\n",
        "medias = df_f.groupby('fami_estratovivienda')['punt_global'].mean().reindex(estratos)\n",
        "plt.plot(medias.index, medias.values, color='red', marker='D', markerfacecolor='red', markeredgecolor='black', linewidth=2, label='Media por estrato')\n",
        "plt.legend(frameon=False, fontsize=12)\n",
        "for spine in plt.gca().spines.values(): spine.set_visible(False)\n",
        "plt.tight_layout()\n",
        "plt.show()"
      ]
    },
    {
      "cell_type": "markdown",
      "id": "c91a614a",
      "metadata": {},
      "source": [
        "Con la gráfica anterior se puede analizar el comportamiento del puntaje global por estrato, donde se evidencia cierta tendencia creciente del puntaje global medio a medida que aumenta el estrato socioeconómico.\n",
        "\n",
        "Es importante destacar que desde la categoría Sin Estrato hasta el Estrato 4, existen valores atípicos tanto de puntajes altos y bajos, mientras que entre los estratos 5 y 6 no se cuenta con valores atípicos, lo que podría indicar que en el caso de los puntajes altos, es normal que se obtengan puntajes cercanos a 500. Aunque hay que tener en cuenta que los estratos altos tienen pocos evaluados en comparación a los demás."
      ]
    },
    {
      "cell_type": "code",
      "execution_count": 49,
      "id": "e4a1c1ee",
      "metadata": {},
      "outputs": [
        {
          "name": "stdout",
          "output_type": "stream",
          "text": [
            "\n",
            " Estadisticas del puntaje global por estrato\n",
            "                         count        mean        std    min    25%    50%  \\\n",
            "fami_estratovivienda                                                         \n",
            "Sin Estrato            27496.0  220.365981  47.400217   65.0  184.0  213.0   \n",
            "Estrato 1             193641.0  244.650900  50.317966   10.0  207.0  241.0   \n",
            "Estrato 2             217577.0  258.538485  50.412367   20.0  221.0  257.0   \n",
            "Estrato 3             138887.0  266.961220  53.707672   14.0  227.0  267.0   \n",
            "Estrato 4              39144.0  271.416462  63.166215   88.0  220.0  272.0   \n",
            "Estrato 5              13030.0  273.974981  69.081645  103.0  215.0  277.0   \n",
            "Estrato 6               7211.0  272.526834  73.920129  118.0  204.0  281.0   \n",
            "\n",
            "                        75%    max  \n",
            "fami_estratovivienda                \n",
            "Sin Estrato           250.0  466.0  \n",
            "Estrato 1             280.0  493.0  \n",
            "Estrato 2             294.0  496.0  \n",
            "Estrato 3             306.0  494.0  \n",
            "Estrato 4             322.0  495.0  \n",
            "Estrato 5             332.0  476.0  \n",
            "Estrato 6             336.5  473.0  \n"
          ]
        }
      ],
      "source": [
        "print('\\n Estadisticas del puntaje global por estrato')\n",
        "print(df_f.groupby(\"fami_estratovivienda\", observed=True)[\"punt_global\"].describe())\n",
        "\n",
        "grupos = df_f.groupby(\"fami_estratovivienda\", observed=True)[\"punt_global\"].apply(list).tolist()"
      ]
    },
    {
      "cell_type": "markdown",
      "id": "9ede800b",
      "metadata": {},
      "source": [
        "De manera numérica revisamos cómo se comportan los estratos bajo el puntaje global y se puede apreciar como en métricas de tendencia central (como la media) y de dispersión (como los cuartiles) se puede apreciar que a medida de subir en estrato socioeconómico sube el puntaje global. Dándonos a entender de clara manera que si hay cierta influencia entre el estrato y el puntaje."
      ]
    },
    {
      "cell_type": "code",
      "execution_count": 50,
      "id": "6a958407",
      "metadata": {},
      "outputs": [
        {
          "name": "stdout",
          "output_type": "stream",
          "text": [
            "\n",
            " Prueba Kruskal-Wallis\n",
            "Estadístico de prueba = 30835.86 , Valor p = 0.0\n"
          ]
        }
      ],
      "source": [
        "#Prueba estadistica Kruskal-Wallis para determinar si hay diferencias de puntaje entre estratos\n",
        "print('\\n Prueba Kruskal-Wallis')\n",
        "if len(grupos) > 1:\n",
        "    h_stat, p_kw = kruskal(*grupos)\n",
        "    print(\"Estadístico de prueba =\", h_stat.round(2), \", Valor p =\", p_kw)\n",
        "else:\n",
        "    print(\"No hay suficientes grupos con datos válidos para la prueba Kruskal-Wallis\")"
      ]
    },
    {
      "cell_type": "markdown",
      "id": "87d3dee3",
      "metadata": {},
      "source": [
        "Como anteriormente se comprobó que los datos no siguen una distribución normal y se busca determinar si existen diferencias entre los puntajes por estrato, se decide realizar una prueba no paramétrica, es decir, que no es necesario que los datos sigan una distribución normal.\n",
        "\n",
        "Entonces se realiza la prueba Kruskall-Wallis, donde las hipótesis se definen de la siguiente manera:\n",
        "\n",
        "* Ho: Todos los estratos tienen la misma distribución.\n",
        "\n",
        "* Ha: Al menos uno de los estratos tiene una distribución distinta.\n",
        "\n",
        "En esta prueba se obtiene un valor p de aproximadamente cero, lo que indica que se cuenta con suficiente evidencia para rechazar la hipótesis nula, por lo que al menos un estrato es diferente de los demás."
      ]
    },
    {
      "cell_type": "markdown",
      "id": "7e35d230",
      "metadata": {},
      "source": [
        "## Conclusiones análisis bivariado"
      ]
    },
    {
      "cell_type": "markdown",
      "id": "85a7b55b",
      "metadata": {},
      "source": [
        "En conclusión, el análisis realizado nos permite acercarnos al contraste de nuestra hipótesis inicial: existen factores sociodemográficos, económicos y académicos que influyen en el desempeño de los estudiantes, reflejado en el puntaje global del examen Saber 11. El primer contraste se estableció con el estrato socioeconómico, entendido como una representación de la realidad económica del hogar del estudiante. Los resultados muestran que, en contextos de hogares marginados (estratos bajos), los estudiantes tienden a obtener puntajes globales inferiores en comparación con aquellos pertenecientes a hogares más privilegiados (estratos altos). Este hallazgo resalta que los estudiantes de estratos bajos, o incluso sin clasificación socioeconómica, constituyen un grupo prioritario que requeriría apoyo o subsidios adicionales para favorecer su trayectoria académica."
      ]
    }
  ],
  "metadata": {
    "colab": {
      "provenance": []
    },
    "kernelspec": {
      "display_name": "Python 3",
      "language": "python",
      "name": "python3"
    },
    "language_info": {
      "codemirror_mode": {
        "name": "ipython",
        "version": 3
      },
      "file_extension": ".py",
      "mimetype": "text/x-python",
      "name": "python",
      "nbconvert_exporter": "python",
      "pygments_lexer": "ipython3",
      "version": "3.13.5"
    }
  },
  "nbformat": 4,
  "nbformat_minor": 5
}
